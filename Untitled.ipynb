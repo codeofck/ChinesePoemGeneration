{
 "cells": [
  {
   "cell_type": "code",
   "execution_count": 1,
   "metadata": {},
   "outputs": [],
   "source": [
    "from word_dict import wordDict"
   ]
  },
  {
   "cell_type": "code",
   "execution_count": 2,
   "metadata": {},
   "outputs": [],
   "source": [
    "word_dict = wordDict()"
   ]
  },
  {
   "cell_type": "code",
   "execution_count": 3,
   "metadata": {},
   "outputs": [
    {
     "data": {
      "text/plain": [
       "-1"
      ]
     },
     "execution_count": 3,
     "metadata": {},
     "output_type": "execute_result"
    }
   ],
   "source": [
    "word_dict.word2int('a')"
   ]
  },
  {
   "cell_type": "code",
   "execution_count": 34,
   "metadata": {
    "scrolled": true
   },
   "outputs": [
    {
     "name": "stdout",
     "output_type": "stream",
     "text": [
      "['1', '之', '不', '以', '】', '【', '为', '而', '也', '其']\n",
      "2781\n",
      "2772\n",
      "False\n",
      "2781\n",
      "2772\n"
     ]
    }
   ],
   "source": [
    "with open('./data/sgns.sikuquanshu.word', 'r', encoding='utf-8') as f:\n",
    "    lines = f.readlines()\n",
    "words = list([i[0] for i  in lines])\n",
    "word_Dict = {line.split()[0]:line.split()[1:] for line in lines}\n",
    "print(words[:10])\n",
    "print(len(word_dict))\n",
    "words = [x for x in words if word_dict.word2int(x) != -1]\n",
    "print(len(words))\n",
    "#print('^' in words)\n",
    "word_Dict = {x:word_Dict[x] for x in words}\n",
    "print('^' in word_Dict)\n",
    "print(len(word_dict))\n",
    "print(len(word_Dict.keys()))\n"
   ]
  },
  {
   "cell_type": "code",
   "execution_count": 74,
   "metadata": {},
   "outputs": [
    {
     "name": "stdout",
     "output_type": "stream",
     "text": [
      "['之', '不', '以', '为', '而', '也', '其', '于', '子', '有', '人', '防', '云', '无', '中', '一', '大', '者', '山', '日', '时', '月', '如', '三', '水', '二', '下', '文', '自', '作', '十', '年', '州', '与', '上', '书', '五', '所', '在', '南', '行', '公', '诗', '生', '事', '王', '风', '后', '至', '天', '四', '又', '得', '是', '出', '言', '见', '名', '可', '百', '此', '东', '西', '知', '里', '相', '臣', '使', '官', '故', '将', '用', '未', '明', '士', '来', '六', '入', '道', '白', '今', '何', '太', '县', '正', '长', '石', '地', '方', '谓', '分', '皆', '城', '然', '元', '国', '亦', '黄', '同', '去', '能', '金', '及', '心', '阳', '马', '前', '成', '万', '江', '北', '军', '小', '从', '君', '门', '平', '多', '诸', '夫', '家', '若', '两', '当', '九', '乃', '传', '已', '七', '复', '令', '八', '清', '字', '民', '安', '兵', '余', '春', '氏', '先', '礼', '帝', '等', '朝', '千', '世', '归', '史', '或', '欲', '古', '音', '气', '本', '外', '内', '即', '河', '经', '矣', '司', '非', '学', '师', '花', '数', '初', '居', '流', '重', '玉', '酒', '武', '我', '间', '主', '切', '青', '声', '汉', '必', '宗', '志', '周', '进', '处', '海', '治', '色', '通', '草', '神', '深', '立', '秋', '食', '木', '命', '光', '服', '寒', '雨', '义', '夜', '闻', '并', '李', '龙', '注', '少', '衣', '物', '老', '开', '法', '定', '府', '和', '林', '张', '都', '乐', '守', '因', '应', '发', '旧', '常', '路', '新', '各', '取', '属', '意', '田', '兮', '尔', '韵', '侯', '反', '左', '过', '起', '死', '齐', '既', '惟', '尽', '合', '实', '华', '尚', '遂', '头', '陈', '女', '节', '首', '足', '郎', '宫', '钱', '飞', '空', '身', '虽', '奏', '任', '干', '香', '犹', '举', '思', '兴', '孙', '望', '直', '刘', '易', '满', '甚', '始', '父', '叶', '建', '部', '广', '赋', '加', '半', '落', '更', '制', '度', '语', '还', '记', '御', '力', '宜', '功', '独', '宋', '临', '置', '难', '众', '土', '车', '莫', '请', '次', '善', '好', '观', '利', '亲', '升', '郡', '竹', '口', '且', '祖', '似', '章', '受', '吾', '红', '游', '近', '图', '问', '树', '末', '京', '理', '手', '称', '唐', '烟', '晋', '焉', '异', '夏', '止', '尝', '侍', '封', '卒', '诏', '鱼', '政', '集', '布', '伯', '卷', '岂', '台', '客', '别', '奉', '终', '皇', '求', '热', '坐', '修', '母', '致', '原', '陵', '登', '论', '火', '仁', '灵', '动', '情', '化', '堂', '画', '贤', '湖', '丁', '川', '曲', '象', '凡', '每', '目', '杨', '位', '向', '连', '引', '丹', '便', '右', '饮', '共', '弟', '贼', '楚', '面', '散', '圣', '由', '郑', '露', '谷', '野', '议', '往', '鸣', '敢', '轻', '耳', '许', '失', '细', '泉', '辞', '雪', '秦', '吏', '载', '妻', '盖', '歌', '皮', '遣', '虚', '梁', '良', '高', '精', '益', '康', '宣', '信', '罗', '紫', '杀', '遗', '儿', '转', '永', '病', '乱', '第', '朱', '着', '卫', '随', '形', '交', '工', '改', '号', '鸟', '俱', '寺', '几', '容', '翠', '设', '献', '星', '松', '对', '嘉', '极', '离', '久', '殿', '祭', '卿', '指', '赤', '浮', '徒', '虎', '银', '兼', '沙', '景', '尺', '变', '执', '甲', '结', '承', '总', '济', '须', '吴', '牛', '才', '固', '乡', '伏', '降', '教', '胜', '幽', '碧', '痛', '省', '句', '刺', '孝', '体', '真', '除', '征', '解', '照', '楼', '视', '但', '溪', '血', '孤', '授', '赵', '赐', '忽', '池', '庙', '吉', '特', '枝', '战', '疏', '带', '甘', '姓', '疾', '留', '性', '雅', '序', '尘', '微', '舟', '素', '采', '乌', '谁', '魏', '要', '亭', '顺', '拜', '到', '杜', '监', '比', '喜', '室', '代', '盛', '回', '领', '胡', '备', '角', '笔', '被', '破', '庭', '波', '闲', '仲', '美', '再', '积', '按', '药', '忠', '旗', '徐', '俗', '仙', '类', '折', '垂', '具', '苦', '贵', '伐', '管', '萧', '表', '抚', '苏', '珠', '惊', '横', '梦', '鲁', '运', '列', '陆', '孔', '纪', '迁', '泽', '就', '崇', '钟', '伤', '种', '推', '骨', '亡', '宁', '恩', '边', '昌', '米', '昭', '哉', '兰', '遇', '僧', '冠', '寸', '敬', '职', '调', '羊', '韩', '汤', '业', '福', '断', '藻', '尊', '贡', '郭', '斯', '鼓', '罪', '告', '报', '送', '园', '阁', '骑', '燕', '夷', '仪', '只', '依', '延', '户', '恶', '阿', '营', '藏', '计', '妇', '呼', '夕', '率', '器', '爱', '存', '谢', '豆', '苍', '温', '影', '朔', '锦', '笑', '丝', '急', '参', '待', '越', '根', '院', '劳', '羽', '英', '邑', '芳', '庆', '宿', '收', '毛', '顾', '源', '镇', '养', '薄', '诚', '射', '严', '典', '读', '彼', '击', '看', '寻', '舞', '丰', '博', '叔', '祀', '吹', '尉', '纳', '霜', '禁', '休', '曹', '静', '幸', '申', '说', '保', '友', '期', '词', '腹', '厚', '德', '攻', '疑', '盘', '穷', '味', '持', '造', '冬', '肉', '桥', '端', '洪', '梅', '沈', '范', '辰', '校', '冷', '鸡', '双', '孟', '移', '姜', '杂', '予', '兄', '仍', '迹', '补', '息', '势', '商', '感', '威', '选', '辛', '咸', '岩', '系', '恐', '退', '巳', '鹤', '午', '井', '丸', '桃', '丘', '淮', '案', '舍', '罢', '季', '隆', '吐', '败', '眼', '塘', '接', '郊', '荣', '试', '寄', '听', '免', '碑', '屋', '篇', '阙', '却', '凉', '昔', '刑', '翻', '状', '强', '塞', '廷', '律', '庄', '毒', '达', '据', '汝', '雄', '洗', '题', '识', '仰', '掌', '觉', '走', '召', '谋', '宇', '丞', '追', '果', '锡', '刻', '念', '忧', '庶', '差', '爵', '简', '勒', '蜀', '煎', '市', '泰', '吕', '尤', '务', '维', '愿', '斋', '虞', '斗', '洞', '桑', '尾', '岳', '权', '倚', '他', '私', '洲', '施', '荆', '房', '统', '桂', '船', '晓', '累', '甫', '扬', '径', '适', '丈', '驾', '暮', '贞', '逆', '轩', '醉', '荐', '覆', '纷', '争', '约', '盐', '席', '放', '邪', '条', '岸', '负', '愁', '鉴', '附', '富', '己', '奔', '赏', '废', '品', '兹', '壁', '熟', '残', '赠', '含', '村', '麻', '训', '禄', '继', '秀', '术', '哀', '宰', '卧', '苑', '岭', '鼎', '儒', '最', '支', '荒', '农', '蒲', '晴', '早', '全', '惠', '巴', '鹿', '震', '肃', '资', '靖', '弓', '晚', '吟', '蔡', '衡', '逢', '背', '洛', '墨', '短', '围', '索', '渐', '充', '鸿', '刚', '提', '坚', '烦', '乘', '乞', '借', '勤', '帅', '遥', '逐', '冲', '犯', '凤', '翼', '机', '舆', '陶', '雷', '底', '程', '质', '禹', '壮', '况', '翰', '聚', '辟', '役', '迎', '渠', '丧', '馆', '委', '佐', '投', '怀', '筑', '饥', '怒', '伊', '貌', '卢', '毕', '姑', '墓', '误', '仆', '履', '愈', '忘', '铜', '衰', '示', '涂', '翁', '牙', '丽', '决', '盗', '渊', '悲', '宴', '消', '籍', '关', '佛', '荡', '例', '戎', '密', '肆', '患', '阶', '振', '侵', '辅', '荷', '危', '隐', '符', '环', '麦', '纵', '产', '庐', '佳', '泥', '虫', '崔', '仓', '编', '刀', '驰', '堪', '悬', '祠', '盈', '招', '显', '科', '渡', '雍', '祝', '社', '琴', '茂', '供', '步', '灭', '童', '汗', '祥', '避', '界', '贾', '族', '勿', '班', '习', '仕', '印', '宝', '脉', '潜', '湿', '嗣', '脱', '弱', '膏', '稽', '隔', '茶', '敌', '旦', '巡', '戒', '杖', '旋', '弃', '熙', '舒', '岁', '庚', '叹', '浪', '耕', '殊', '稍', '曾', '扶', '傅', '逸', '卜', '奸', '袭', '牧', '倾', '柔', '奴', '侧', '浦', '会', '绕', '蒙', '灯', '禅', '霞', '境', '抱', '陛', '迟', '窃', '减', '齿', '男', '屯', '希', '铁', '赴', '旅', '介', '贫', '铭', '旁', '酌', '邦', '昏', '拾', '郁', '屡', '咏', '津', '险', '宅', '式', '没', '寂', '佩', '研', '党', '粉', '屈', '托', '尧', '豫', '阴', '稷', '颇', '烈', '尹', '枢', '殷', '狱', '拂', '均', '瑞', '兽', '材', '弥', '赞', '贯', '葛', '昼', '慈', '妙', '智', '革', '占', '浅', '格', '畏', '润', '珍', '挥', '繁', '兆', '顷', '圆', '斩', '际', '检', '敛', '鲜', '诛', '唯', '费', '判', '襄', '驻', '贺', '穴', '韦', '逾', '淳', '柱', '竟', '怨', '辨', '讲', '盏', '凝', '偏', '启', '桓', '劝', '救', '烧', '斜', '茅', '欢', '署', '续', '困', '恨', '帖', '峰', '寿', '绣', '栖', '轮', '昆', '舜', '乾', '区', '浸', '泛', '暴', '宠', '纸', '项', '巨', '禽', '庸', '鬼', '愚', '伦', '灾', '粟', '损', '规', '量', '怜', '浩', '毫', '彭', '蛮', '单', '假', '纯', '映', '枕', '帛', '瞻', '循', '操', '桐', '片', '助', '植', '披', '旌', '浙', '暗', '契', '颂', '访', '勇', '了', '徙', '豪', '蜜', '坤', '融', '准', '想', '秘', '览', '虑', '掩', '傍', '谈', '屏', '眉', '束', '莲', '戴', '宾', '腾', '那', '偶', '住', '雾', '躬', '镜', '蓬', '惜', '奠', '暑', '雕', '册', '浑', '驱', '谏', '妃', '夺', '倒', '旱', '鸾', '飘', '坛', '蛇', '沉', '盟', '趋', '腰', '澄', '晨', '略', '忍', '狂', '耶', '枯', '把', '暖', '凌', '沟', '优', '漫', '嗟', '寝', '乳', '买', '祸', '墙', '藩', '肠', '崖', '顿', '忆', '寡', '穿', '拟', '专', '闭', '渔', '错', '哭', '个', '税', '脚', '匪', '停', '湘', '裁', '亮', '琼', '抵', '裳', '卑', '丛', '葬', '翔', '炎', '漏', '效', '杯', '肯', '董', '隋', '饭', '巾', '拥', '冯', '违', '蕃', '煮', '巢', '忌', '答', '俯', '帘', '柳', '妄', '雀', '悠', '巧', '犬', '顶', '烛', '簿', '贱', '瓦', '黍', '毋', '突', '激', '涧', '肥', '低', '超', '麟', '壶', '摩', '孰', '焚', '梧', '厌', '夹', '圭', '否', '璧', '毁', '缓', '座', '烂', '贪', '绿', '限', '炙', '援', '苔', '响', '黑', '缺', '泪', '速', '姚', '坡', '潮', '练', '奋', '俊', '檐', '阅', '泣', '候', '包', '慕', '写', '黎', '钩', '绵', '谒', '驿', '徽', '择', '狐', '潭', '辽', '策', '芙', '频', '筵', '彻', '弹', '预', '翩', '菜', '淡', '匹', '怪', '增', '啼', '肺', '灰', '芦', '医', '让', '织', '价', '基', '油', '活', '肝', '鼻', '洒', '艺', '展', '慰', '聊', '扇', '绮', '倍', '壑', '挂', '菊', '域', '剑', '戏', '磨', '帐', '像', '敷', '弄', '禾', '层', '勉', '辉', '秉', '脂', '阻', '蝉', '零', '垣', '舌', '迷', '戍', '鳞', '办', '芝', '邻', '净', '瑶', '叠', '蒸', '蔽', '峻', '咽', '滋', '牵', '塔', '柴', '戈', '袖', '乍', '堕', '笼', '滑', '灌', '逃', '蓝', '凿', '琅', '砂', '朋', '碎', '完', '沧', '姿', '扫', '幼', '幕', '庵', '途', '付', '输', '赫', '局', '疆', '凄', '蓉', '陇', '睡', '羞', '胥', '肤', '笙', '霄', '莱', '染', '裘', '陂', '彩', '洁', '锋', '苗', '网', '辱', '魂', '衔', '胸', '稻', '猎', '削', '濯', '浓', '打', '祗', '炉', '冈', '妾', '扰', '葱', '漠', '愧', '宵', '渚', '钓', '催', '阵', '熊', '贝', '藤', '肩', '诵', '团', '拔', '栗', '暇', '悔', '遭', '冕', '茫', '竞', '犀', '妆', '晏', '筋', '溢', '闾', '宛', '匀', '压', '牢', '狼', '臂', '欣', '呈', '姬', '课', '整', '涛', '牡', '掠', '囊', '帷', '偃', '漆', '远', '森', '焦', '凭', '卓', '携', '旬', '添', '鬓', '唱', '涕', '滞', '笋', '橘', '跃', '艰', '亩', '雁', '俭', '袍', '爽', '冰', '瑟', '杏', '喧', '虹', '攀', '萝', '洋', '窥', '箭', '绳', '芜', '裴', '绛', '芒', '卖', '排', '茎', '晦', '雉', '猿', '膝', '暂', '眠', '辈', '斧', '段', '潘', '昨', '标', '椒', '秩', '奚', '寥', '棘', '谱', '渭', '澹', '鸠', '摇', '浊', '板', '缀', '拘', '篱', '胆', '隅', '宦', '鹊', '触', '欧', '豹', '铺', '鞭', '巷', '摧', '趣', '旷', '箫', '健', '龟', '割', '话', '崩', '电', '堤', '浆', '蚕', '庾', '伴', '乏', '遽', '裂', '汲', '饱', '襟', '倦', '讼', '俎', '薪', '檀', '遍', '逼', '悟', '储', '销', '坠', '鹰', '涌', '祈', '岐', '遐', '值', '剪', '滴', '浴', '缨', '怅', '猛', '酸', '铸', '奕', '耀', '榆', '圃', '稼', '冥', '蝶', '胶', '莽', '岑', '颠', '寓', '肌', '煌', '挟', '沐', '淹', '坊', '莺', '纶', '饶', '夙', '杰', '纱', '践', '装', '篆', '泊', '闽', '觞', '现', '辇', '畔', '斑', '冒', '寇', '促', '醴', '赖', '骄', '拨', '仗', '槐', '栋', '鸳', '瘦', '狗', '换', '料', '幅', '蛟', '障', '衮', '酬', '葵', '腊', '场', '贮', '羌', '较', '翳', '棠', '磬', '绶', '冻', '著', '巫', '膺', '仅', '岛', '陌', '妖', '劲', '轴', '踏', '液', '樽', '誓', '线', '帆', '哲', '晖', '壤', '耆', '蔓', '笛', '樵', '柏', '绅', '缕', '番', '衢', '钦', '稀', '羡', '竿', '验', '陟', '缩', '宸', '扁', '峡', '截', '霏', '阖', '欺', '沸', '鹭', '玩', '态', '徊', '囚', '朗', '矜', '笺', '蹇', '吞', '谟', '霁', '邱', '萦', '迢', '混', '奇', '嫁', '耿', '涨', '埃', '啸', '陋', '弊', '警', '蜂', '测', '搜', '矫', '创', '裹', '叟', '乔', '湛', '淑', '沿', '醒', '龄', '弦', '垒', '探', '胎', '绪', '婴', '捐', '冉', '媚', '嫌', '吊', '嵩', '筠', '柯', '抽', '艾', '徘', '涯', '阮', '俄', '鞍', '夸', '韶', '虏', '畴', '叩', '勾', '褒', '慨', '阜', '耻', '缘', '饷', '婆', '眷', '藜', '粲', '呜', '架', '返', '捧', '奈', '砚', '屠', '楹', '杳', '剧', '愤', '棺', '迤', '窦', '湾', '滩', '霭', '誉', '涉', '炼', '梓', '瑚', '握', '快', '街', '洽', '榜', '槛', '埋', '惨', '坟', '陪', '播', '拱', '邀', '函', '港', '柄', '羸', '邹', '羲', '妨', '涵', '寐', '恃', '窗', '曜', '泗', '冶', '斛', '檄', '蜡', '控', '泻', '钧', '栏', '淋', '蹄', '填', '盆', '敝', '衫', '皎', '瓶', '樊', '濡', '擅', '蚁', '鼠', '踪', '隙', '租', '渺', '刍', '芬', '的', '辔', '算', '麾', '鲍', '闷', '摘', '版', '廊', '剥', '箕', '鸥', '孺', '皓', '组', '灼', '糊', '猷', '嗜', '揖', '骏', '粗', '潇', '甸', '辕', '蒿', '岱', '透', '扉', '缥', '慧', '窈', '逝', '泠', '苇', '队', '恋', '筹', '枉', '派', '鹦', '般', '艳', '魄', '骚', '株', '裙', '絮', '酣', '唤', '疲', '棱', '沾', '贻', '烹', '颁', '娇', '馔', '伸', '娟', '耸', '瓮', '杵', '渴', '娥', '痕', '蟠', '蔚', '唇', '蔬', '夭', '峦', '鲸', '髻', '顽', '梨', '谪', '欠', '软', '涎', '扑', '巍', '尖', '亚', '廉', '沦', '穹', '拙', '迫', '堆', '滕', '纹', '涤', '凰', '琵', '灶', '掖', '鹄', '隘', '构', '漳', '蛾', '询', '遮', '匡', '阑', '棹', '皂', '氛', '札', '模', '跳', '朽', '屦', '诘', '蕙', '拳', '俨', '僻', '琶', '亏', '岚', '乖', '衙', '寰', '谐', '砌', '鸦', '辙', '汴', '簪', '芽', '汀', '凛', '偕', '葭', '荔', '羁', '鸯', '峨', '霸', '仇', '跨', '挽', '溟', '茹', '牖', '腥', '窟', '潺', '纡', '鸭', '兀', '翘', '苞', '坏', '枫', '旨', '袂', '挑', '傲', '骥', '恍', '峭', '谊', '貂', '欤', '跸', '畦', '腐', '炊', '拍', '瀛', '驭', '讵', '墀', '冢', '薇', '隶', '歇', '榛', '榻', '梢', '兔', '麓', '铅', '惮', '黛', '桧', '漾', '梯', '栽', '銮', '吁', '偷', '梵', '衾', '诉', '玑', '螺', '茗', '央', '陀', '蟾', '簇', '唾', '床', '蔼', '怯', '妍', '蓼', '峤', '阔', '帽', '鲤', '彤', '鸱', '幄', '墟', '饵', '澜', '骊', '悴', '虬', '粤', '菱', '霖', '簟', '鹉', '驹', '针', '怡', '邸', '骤', '锁', '郢', '污', '飒', '沼', '萋', '珑', '茸', '鹏', '掷', '褐', '钗', '雏', '豚', '雌', '欹', '啄', '翅', '曙', '钺', '厨', '寞', '薰', '侣', '评', '蹙', '闱', '翦', '驴', '逋', '晕', '敕', '稠', '酿', '豁', '锄', '缚', '蟹', '舂', '涓', '潦', '惭', '嫩', '揽', '捷', '瘴', '溜', '萍', '馨', '颐', '稚', '毂', '缁', '黯', '做', '徂', '餐', '嚣', '茧', '认', '瓜', '迥', '岫', '邮', '闺', '懒', '滔', '蹑', '琐', '扣', '堵', '熏', '蚤', '些', '粱', '敞', '怕', '鹅', '窕', '驼', '曳', '铃', '讯', '蕉', '凋', '颊', '仑', '暝', '递', '漂', '嶂', '菲', '傥', '拭', '旄', '卉', '椎', '痴', '骖', '玲', '湍', '霓', '裾', '匣', '瀑', '逍', '绡', '挹', '眺', '驷', '髯', '驯', '焰', '笠', '犊', '插', '庖', '揭', '叱', '吸', '舄', '惆', '球', '慷', '旒', '袅', '箧', '醇', '倘', '嵘', '溶', '浇', '酥', '槎', '蠡', '匆', '瓯', '柘', '碍', '仞', '培', '磊', '妓', '屐', '恰', '伫', '抛', '担', '躯', '骸', '翮', '幻', '踞', '峥', '楫', '藓', '狎', '斟', '剡', '盎', '旭', '竺', '嬉', '茵', '侠', '萤', '店', '蝇', '颗', '篁', '岷', '辜', '幢', '坞', '嵬', '葩', '护', '噪', '敲', '濠', '缄', '麒', '拖', '榴', '芸', '烽', '晶', '瓢', '巅', '蓟', '娘', '梳', '娱', '迂', '谩', '醪', '航', '忙', '沽', '阡', '茨', '昂', '纤', '寮', '莎', '宙', '幡', '咫', '槁', '穗', '滨', '筝', '娑', '忝', '骎', '苕', '阊', '款', '竖', '榭', '涟', '讶', '漓', '纨', '藕', '俦', '磴', '耽', '倩', '媒', '籁', '灿', '鬟', '联', '呵', '劫', '蜃', '屿', '删', '镌', '碣', '驺', '椽', '憔', '拆', '樱', '芋', '擘', '笳', '癖', '缭', '嘶', '薜', '芹', '诀', '矶', '翡', '筒', '咄', '钥', '怆', '晒', '嘲', '悄', '滇', '帙', '嵇', '晞', '盂', '鸢', '浣', '耐', '骞', '龛', '菰', '它', '彷', '阃', '匝', '讴', '阆', '吠', '恼', '杉', '漪', '嬴', '盍', '墅', '赢', '搔', '猜', '缈', '褰', '暄', '憎', '厓', '赛', '桡', '栈', '烬', '努', '惯', '椿', '历', '粘', '浔', '拄', '邂', '雠', '炬', '艇', '玕', '杪', '帏', '抹', '甑', '窄', '扪', '岖', '蹊', '舫', '樯', '曦', '萼', '拈', '逅', '谙', '觅', '涩', '犁', '珂', '蹉', '哗', '惬', '萸', '篷', '秣', '紧', '幔', '攒', '棋', '蛙', '慵', '碛', '夔', '厦', '莼', '群', '滚', '骢', '逡', '廿', '侬', '溅', '勋', '骝', '擎', '毳', '蓑', '翛', '窝', '岘', '燃', '鲈', '偈', '皋', '弯', '橹', '颜', '淅', '闪', '扃', '眸', '荻', '鹧', '恙', '箔', '稳', '撼', '楸', '隈', '霰', '湲', '衲', '鞋', '蕊', '堞', '薤', '鸪', '萱', '瓣', '瞑', '蛩', '撑', '蟋', '鹓', '鹜', '坼', '蟀', '爨', '脸', '蜗', '璇', '袜', '砧', '芰', '婵', '飕', '嵯', '嗔', '趺', '鲛', '蒹', '柑', '芭', '蘧', '镫', '遨', '罅', '侪', '碗', '濑', '债', '麈', '柚', '蕨', '叫', '魔', '奁', '蕖', '轺', '跎', '鳌', '珊', '鹢', '秫', '炷', '惹', '貔', '髭', '湄', '鼙', '莓', '鹃', '谣', '篙', '秧', '蝴', '酹', '浥', '箨', '颦', '垄', '秾', '橐', '啭', '样', '曛', '点', '荫', '哦', '灞', '篮', '禊', '趁', '溯', '桨', '垆', '唳', '鹂', '滟', '藉', '醅', '撩', '缆', '蜍', '凫', '檠', '诧', '描', '悭', '漱', '绝', '畹', '篝', '醺', '惘', '默', '粼', '颓', '毡', '剩', '赊', '廛', '榕', '叉', '崎', '罥', '虔', '腔', '歧', '铗', '羹', '毵', '熳', '庞', '缠', '宽', '拚', '闹', '攲', '旆', '潸', '戟', '蠹', '卮', '钵', '飙', '筇', '玄', '朵']\n"
     ]
    }
   ],
   "source": [
    "import numpy as np\n",
    "embedding = np.random.uniform(-1,1,size=(len(word_Dict.keys()) + 2, 300))\n",
    "id2word = []\n",
    "\n",
    "for i,(word, vec) in enumerate(word_Dict.items()):\n",
    "    vec = [float(_) for _ in vec]\n",
    "    embedding[i + 1] = vec\n",
    "    id2word.append(word)\n",
    "for j in range(300):\n",
    "    embedding[:][j] -= np.mean(embedding[:][j])\n",
    "print(id2word)"
   ]
  },
  {
   "cell_type": "code",
   "execution_count": 75,
   "metadata": {},
   "outputs": [
    {
     "name": "stdout",
     "output_type": "stream",
     "text": [
      "300 300\n",
      "117\n"
     ]
    },
    {
     "data": {
      "image/png": "[encoded data removed]",
      "text/plain": [
       "<Figure size 432x288 with 1 Axes>"
      ]
     },
     "metadata": {
      "needs_background": "light"
     },
     "output_type": "display_data"
    }
   ],
   "source": [
    "import matplotlib.pyplot as plt\n",
    "def pca(X):\n",
    "    n, m = X.shape\n",
    "    C = np.dot(X.T, X) / (n - 1)\n",
    "    eigen_vals, eigen_vecs = np.linalg.eig(C)\n",
    "    print(len(eigen_vecs),len(eigen_vecs[0]))\n",
    "    power = eigen_vals * eigen_vals\n",
    "    for i in range(1, len(power)):\n",
    "        power[i] += power[i-1]\n",
    "    power/= (power[-1])\n",
    "    m -= 1\n",
    "    while power[m] >= 0.95:\n",
    "        m -= 1\n",
    "    print(m)\n",
    "    plt.plot(power)\n",
    "    X_pca = np.dot(X, np.array(eigen_vecs[: 128]).T)\n",
    "    return X_pca\n",
    "embedding = pca(embedding)\n",
    "with open('./data/word_dict_128.txt', 'w') as f:\n",
    "    f.write('|'.join(id2word))\n",
    "np.save('./data/embedding_128.npy', embedding)"
   ]
  },
  {
   "cell_type": "code",
   "execution_count": 76,
   "metadata": {},
   "outputs": [
    {
     "name": "stdout",
     "output_type": "stream",
     "text": [
      "(2774, 128)\n"
     ]
    }
   ],
   "source": [
    "print(embedding.shape)"
   ]
  },
  {
   "cell_type": "code",
   "execution_count": 96,
   "metadata": {},
   "outputs": [
    {
     "name": "stdout",
     "output_type": "stream",
     "text": [
      "['山 鸟 乱 鸣 树|和 风 微 动 琴|平 生 寥 落 意|因 以 忆 长 林\\n', '礼 乐 成 乌 有|诗 书 入 翠 微|无 银 堪 易 米|甘 采 首 阳 薇\\n', '白 日 行 深 院|青 莲 护 讲 台|悠 然 何 所 得|身 世 委 浮 埃\\n', '暮 潮 来 艇 子|深 树 出 蛮 歌|携 得 清 风 至|毋 劳 夜 枕 戈\\n', '入 阁 几 重 重|双 开 曲 径 通|穿 风 分 柳 径|随 藓 度 兰 风\\n', '坐 忆 仙 源 里|春 风 尔 独 寻|桃 花 别 后 路|芳 草 到 时 心\\n', '客 路 逢 佳 节|无 欢 更 益 愁|前 山 造 云 日|登 陟 不 因 游\\n', '丛 竹 藏 鸡 犬|茅 檐 间 柳 梅|前 期 犹 未 定|客 思 正 悠 哉\\n', '雨 阻 东 山 屐|天 留 北 海 杯|门 墙 接 苑 树|长 昼 得 迟 回\\n', '古 道 逢 元 夕|荒 山 惨 暮 烟|桃 花 虽 作 意|未 是 艳 阳 天\\n']\n"
     ]
    }
   ],
   "source": [
    "l = []\n",
    "id2word = set(id2word)\n",
    "with open('./data/poem_5_words_final_1.txt','r', encoding='gbk') as f:\n",
    "    lines = f.readlines()\n",
    "for line in lines:\n",
    "    flag = True\n",
    "    line_ = line.split('|')\n",
    "    for sentence in line_:\n",
    "        sentence = sentence.strip().split(' ')\n",
    "        for word in sentence:\n",
    "            if word not in id2word:\n",
    "                flag= False\n",
    "    if flag == True:\n",
    "        l.append(line)\n",
    "with open('./data/poem_128.txt', 'w') as f:\n",
    "    f.write(''.join(l))\n",
    "print(l[:10])"
   ]
  },
  {
   "cell_type": "code",
   "execution_count": 98,
   "metadata": {},
   "outputs": [
    {
     "name": "stdout",
     "output_type": "stream",
     "text": [
      "7619\n"
     ]
    }
   ],
   "source": [
    "print(len(l))"
   ]
  },
  {
   "cell_type": "code",
   "execution_count": 99,
   "metadata": {},
   "outputs": [
    {
     "name": "stdout",
     "output_type": "stream",
     "text": [
      "{'任', '粼', '削', '便', '卖', '黎', '驼', '贡', '秫', '暂', '桂', '按', '娘', '绣', '劳', '勤', '戍', '话', '祸', '潘', '绅', '元', '冶', '会', '手', '羸', '瑟', '鸠', '惟', '候', '漳', '籍', '繁', '簇', '浣', '坡', '珂', '士', '犊', '驱', '陂', '征', '智', '值', '衰', '庐', '内', '提', '原', '宫', '事', '竹', '课', '钦', '蒿', '蔬', '最', '姜', '肯', '嗟', '劲', '基', '贮', '回', '摘', '同', '省', '岚', '快', '年', '据', '略', '梁', '竿', '乡', '灶', '阵', '壤', '阻', '杂', '庙', '洒', '楸', '幸', '咫', '缆', '珊', '骑', '几', '须', '童', '辽', '旗', '蕉', '滇', '裹', '井', '麈', '试', '槛', '翮', '忽', '蝇', '飕', '户', '篇', '政', '班', '披', '鸿', '韶', '右', '医', '醉', '寮', '近', '寿', '鸾', '食', '酸', '追', '漫', '面', '梓', '主', '后', '权', '纹', '线', '度', '羽', '统', '笋', '孺', '望', '训', '翰', '苍', '零', '像', '农', '溟', '笔', '攒', '灭', '屿', '帝', '降', '杜', '蹇', '枕', '养', '翩', '侠', '促', '况', '座', '楹', '涟', '姿', '蝴', '应', '太', '芒', '补', '壶', '卉', '离', '哭', '爽', '阡', '粗', '溅', '荷', '友', '勿', '仅', '干', '格', '储', '善', '首', '鹰', '樯', '鬟', '茫', '垄', '雍', '楚', '禽', '精', '静', '联', '堞', '母', '炷', '装', '蕙', '晶', '稀', '衾', '段', '郡', '湄', '制', '稳', '撩', '仑', '丛', '砂', '宁', '陶', '胎', '汲', '蓉', '坊', '觅', '腥', '乐', '涵', '字', '惠', '湖', '改', '韦', '吊', '我', '松', '衣', '运', '留', '膝', '七', '起', '爱', '颐', '壮', '闹', '峨', '檀', '牧', '浥', '欺', '流', '甘', '胶', '鞋', '收', '津', '篙', '朋', '今', '执', '虫', '本', '算', '依', '绶', '具', '宇', '海', '廿', '赞', '如', '阃', '隈', '震', '包', '辔', '杀', '西', '处', '旨', '移', '奏', '嫩', '栋', '宰', '埋', '妄', '伫', '幔', '攲', '河', '敝', '赛', '满', '广', '甫', '寒', '穗', '炼', '谱', '用', '较', '虬', '淹', '阖', '惊', '婴', '艳', '周', '邹', '彻', '岑', '粟', '语', '钓', '骖', '珠', '簪', '玩', '笑', '从', '耿', '琼', '的', '蟋', '樵', '愁', '凤', '袖', '裘', '隅', '郎', '禹', '饷', '火', '宠', '神', '嵯', '还', '六', '吟', '泛', '哉', '温', '品', '族', '焚', '麾', '剥', '屐', '护', '盆', '润', '能', '皆', '纤', '耆', '卒', '誓', '挥', '属', '渐', '更', '蕨', '穴', '彷', '泊', '麻', '坚', '寥', '认', '秾', '凰', '煎', '畏', '磴', '乍', '共', '玕', '鼓', '显', '含', '口', '爨', '父', '氛', '烦', '哗', '狗', '逢', '乏', '闱', '岱', '飘', '屯', '亏', '菱', '玑', '闭', '晒', '画', '橘', '在', '庖', '集', '供', '钺', '苏', '抽', '源', '俊', '官', '牢', '赏', '藉', '郭', '骄', '绕', '悬', '肠', '千', '渺', '遂', '鹤', '裴', '匝', '洲', '鹅', '瘴', '惜', '耶', '溢', '采', '卓', '嫁', '怕', '忠', '骸', '苇', '仁', '引', '唳', '蟠', '衢', '摩', '荡', '稼', '宵', '写', '蛇', '筋', '堤', '似', '材', '耕', '锄', '惆', '巨', '肤', '偃', '奠', '修', '助', '秘', '魄', '器', '好', '昆', '纳', '龙', '灞', '艇', '沉', '仗', '痛', '与', '陇', '知', '抹', '汗', '铸', '檄', '萝', '学', '油', '羡', '契', '惘', '坛', '卑', '浆', '镇', '伸', '访', '岸', '嵘', '颦', '小', '往', '株', '幢', '溶', '拈', '贾', '贝', '计', '蛟', '想', '彼', '择', '蓼', '欲', '盎', '现', '禊', '陟', '取', '众', '只', '檐', '盏', '筝', '箔', '淡', '蘧', '侪', '一', '破', '滩', '此', '檠', '透', '趁', '惨', '芝', '徐', '掠', '列', '墨', '狼', '防', '猜', '魂', '浮', '爵', '叶', '卧', '落', '傍', '坞', '尧', '失', '嵬', '樊', '鲈', '匀', '迟', '初', '添', '跸', '寓', '呈', '典', '麒', '妨', '欣', '题', '犀', '欠', '傲', '迢', '舟', '蠡', '逡', '老', '渔', '轩', '曜', '尘', '杨', '囚', '泠', '诧', '捧', '持', '蚁', '啸', '吠', '答', '盈', '侣', '涓', '洪', '暇', '楼', '新', '桥', '窥', '骤', '表', '匡', '卫', '办', '变', '孰', '违', '攻', '偏', '茧', '茵', '涌', '塘', '龛', '溪', '陛', '禾', '邀', '栖', '磨', '漆', '治', '禄', '障', '绿', '解', '吞', '踪', '捷', '波', '末', '皓', '掷', '台', '若', '请', '荒', '忆', '谒', '十', '负', '姬', '拍', '衔', '完', '阮', '涎', '旭', '峤', '唐', '寞', '嵇', '圆', '肺', '寐', '构', '瓜', '斟', '托', '蒹', '议', '尚', '明', '微', '者', '唯', '乳', '荫', '袍', '艰', '柱', '磊', '凉', '滨', '盖', '幼', '潜', '笛', '多', '雾', '偕', '理', '墅', '结', '迹', '烈', '夹', '谊', '勒', '判', '峡', '甚', '纱', '麓', '信', '布', '榴', '鹏', '总', '屋', '剧', '令', '孤', '贺', '组', '柘', '躯', '效', '菲', '棺', '俱', '偶', '慧', '鹦', '弱', '纸', '时', '枫', '岘', '僧', '听', '次', '颇', '已', '拘', '濑', '生', '迁', '媚', '工', '暄', '藜', '帅', '场', '杏', '数', '杳', '擅', '校', '碧', '了', '限', '渭', '澄', '篱', '椿', '妇', '腔', '颂', '平', '筑', '星', '葬', '丽', '慰', '鸣', '趺', '利', '放', '宜', '茗', '薜', '复', '濯', '健', '眠', '歇', '缈', '豫', '燃', '缘', '壁', '莲', '例', '顽', '藕', '恶', '篝', '价', '畦', '律', '尖', '徽', '谟', '盐', '踏', '酬', '默', '亩', '婆', '讶', '悠', '森', '世', '秩', '喧', '词', '师', '饱', '隘', '隶', '实', '淳', '速', '熳', '床', '吁', '恋', '尊', '姓', '辕', '恩', '续', '期', '阙', '劝', '贞', '莼', '将', '光', '栗', '错', '央', '亦', '郑', '梦', '夜', '围', '宛', '黯', '褒', '买', '恼', '伴', '旷', '功', '遭', '橹', '杉', '笳', '备', '强', '即', '乖', '淑', '目', '褰', '印', '投', '莽', '教', '吉', '岳', '因', '区', '唾', '冯', '牖', '凡', '囊', '垒', '架', '缥', '瑞', '侵', '资', '碎', '炎', '拔', '肌', '怜', '茨', '娥', '渠', '坤', '侧', '国', '己', '截', '沾', '嬴', '髯', '室', '嚣', '雨', '斋', '莱', '袅', '臂', '漪', '条', '滋', '翘', '洁', '要', '途', '袂', '浴', '鸥', '卮', '准', '悔', '猿', '叉', '舞', '絮', '庄', '仍', '芽', '妙', '伯', '匣', '蟾', '余', '出', '兵', '蕃', '莓', '飞', '佐', '紧', '泻', '凄', '梵', '猛', '读', '咸', '欢', '象', '顿', '佳', '毫', '秣', '裳', '鹧', '赋', '霏', '异', '触', '萍', '疏', '彤', '芸', '冈', '悴', '料', '椽', '祗', '泪', '设', '徙', '缁', '靖', '妓', '娑', '当', '遗', '乘', '弯', '怯', '鹭', '镫', '麦', '薤', '里', '腾', '胜', '秉', '侬', '逾', '位', '旦', '鼙', '庵', '炊', '冉', '蝉', '拚', '云', '息', '藻', '娱', '咽', '赴', '苑', '祖', '恍', '家', '没', '鲜', '偈', '代', '短', '桨', '箕', '隐', '虹', '钧', '挽', '漓', '酿', '葭', '谣', '过', '尽', '网', '滟', '蛙', '剑', '嘉', '怆', '斩', '递', '通', '误', '观', '或', '驻', '泗', '危', '娟', '慷', '筒', '句', '擎', '职', '貔', '薄', '蔼', '担', '耸', '终', '外', '删', '舒', '电', '草', '竺', '曛', '垂', '色', '榻', '钟', '羲', '潺', '薇', '鸟', '闽', '履', '戏', '藤', '萤', '良', '忧', '魔', '停', '麟', '樽', '跳', '沐', '商', '粱', '涕', '堪', '污', '鲁', '戟', '镜', '款', '退', '藩', '颜', '岁', '蔡', '愿', '遣', '水', '种', '巾', '映', '鹊', '俦', '翅', '单', '弊', '车', '堂', '碣', '眺', '欧', '思', '附', '监', '湾', '醇', '庶', '比', '般', '凛', '延', '怪', '仲', '登', '阳', '前', '渊', '习', '仓', '铁', '鼻', '裾', '舜', '交', '瓢', '纨', '陵', '米', '牡', '觞', '织', '益', '骞', '永', '鹃', '篮', '婵', '册', '衲', '奁', '蒲', '费', '骢', '烽', '点', '芙', '迫', '颁', '灿', '故', '铗', '握', '氏', '觉', '损', '先', '兆', '佩', '烟', '练', '钩', '琐', '滔', '矫', '斛', '汝', '著', '孝', '肃', '艾', '继', '戴', '暖', '菜', '绡', '物', '图', '否', '倾', '棱', '发', '貌', '蔽', '邮', '凭', '赵', '池', '角', '茹', '驷', '墟', '箧', '竖', '队', '那', '间', '下', '头', '保', '瓯', '净', '刍', '固', '掩', '坏', '月', '京', '鼎', '莎', '玄', '方', '扉', '阔', '奚', '然', '沙', '矶', '榛', '霸', '吏', '穹', '寺', '腰', '田', '沧', '蜀', '羌', '奇', '蔚', '科', '务', '浸', '髭', '醪', '木', '循', '不', '弟', '换', '怡', '踞', '章', '遍', '搔', '有', '沽', '招', '绵', '篁', '慵', '霜', '冷', '予', '伤', '啼', '拙', '榆', '义', '汀', '愚', '守', '毋', '式', '豁', '雕', '陆', '哀', '蹙', '翠', '铃', '曾', '舂', '湘', '署', '芳', '郁', '雌', '对', '胆', '球', '赢', '边', '斗', '卢', '趋', '模', '止', '影', '伦', '萸', '陌', '旋', '躬', '昼', '超', '齿', '高', '芰', '羞', '扰', '沿', '群', '付', '邻', '去', '瘦', '耐', '夔', '称', '巫', '翔', '溜', '视', '谁', '忌', '帷', '搜', '隋', '声', '越', '豚', '贫', '浪', '畴', '拥', '寰', '倘', '量', '弹', '勋', '步', '馆', '屠', '骨', '诵', '柄', '园', '兹', '乔', '底', '编', '黍', '连', '击', '巡', '瀛', '歌', '逃', '宙', '虑', '奉', '除', '他', '亚', '王', '捐', '夷', '伐', '狱', '细', '羁', '惮', '凿', '夸', '扃', '借', '客', '诚', '贤', '迷', '慨', '懒', '卷', '阶', '缺', '浅', '鳌', '蚤', '富', '但', '产', '恨', '召', '宦', '着', '堕', '溯', '把', '遽', '邂', '闾', '箨', '各', '席', '札', '襄', '培', '君', '吐', '骎', '崎', '胸', '宣', '胡', '等', '愤', '邸', '店', '蝶', '陋', '柑', '揽', '曳', '厓', '鉴', '浊', '困', '排', '盟', '安', '澹', '墀', '抚', '熊', '览', '寄', '桃', '奴', '蜃', '为', '霭', '纵', '龄', '春', '豹', '盗', '雷', '识', '占', '斑', '芋', '濠', '岷', '颓', '日', '翛', '陈', '救', '范', '簿', '诏', '椒', '骊', '廛', '刘', '谪', '辞', '患', '酥', '衫', '钱', '评', '帆', '优', '万', '希', '庆', '雉', '裁', '土', '朽', '雀', '虎', '揖', '顺', '宿', '倚', '杯', '栈', '矣', '铅', '叹', '娇', '言', '散', '却', '莺', '舫', '疾', '浩', '潦', '突', '餐', '骏', '豪', '澜', '伏', '唱', '桡', '气', '堵', '桑', '蓑', '浑', '瞻', '悟', '汉', '邱', '壑', '废', '笼', '槎', '窦', '力', '问', '规', '垣', '槐', '銮', '邑', '皂', '跃', '褐', '门', '苗', '篷', '皇', '佛', '旆', '竞', '逝', '柴', '轮', '泰', '兰', '吾', '讼', '贪', '砧', '盛', '支', '寡', '授', '果', '亭', '贯', '罪', '血', '祀', '斜', '灯', '拆', '扑', '建', '域', '曹', '军', '晨', '泣', '崇', '帘', '特', '入', '御', '走', '晖', '幻', '贱', '勉', '眉', '峥', '城', '湛', '驯', '八', '吕', '药', '腊', '际', '足', '筵', '肉', '鹓', '眷', '花', '阆', '竟', '作', '拳', '看', '轺', '热', '败', '缭', '皮', '轴', '鬼', '歧', '吴', '斯', '注', '仙', '薪', '敬', '嬉', '乌', '脚', '焦', '急', '拄', '合', '牛', '驰', '甑', '既', '闲', '迥', '鹜', '藏', '胥', '丈', '承', '研', '中', '琅', '芜', '惯', '响', '半', '史', '凌', '纯', '怨', '腐', '驿', '深', '黑', '骥', '且', '熏', '汤', '扣', '辨', '翦', '术', '树', '战', '洋', '沈', '匆', '定', '媒', '债', '梳', '贵', '州', '郊', '咄', '殊', '枢', '棹', '梯', '杰', '稽', '萱', '妍', '董', '憔', '眼', '缨', '狐', '旱', '崔', '索', '鳞', '刚', '东', '坐', '厚', '襟', '悄', '灼', '稠', '谓', '昂', '雠', '蹉', '晞', '隆', '碗', '饭', '都', '辱', '虏', '积', '涤', '闪', '迤', '蜜', '严', '仪', '坼', '践', '其', '灌', '诉', '偷', '慕', '廉', '悲', '荣', '汴', '软', '鲍', '祠', '梢', '嘲', '轻', '哲', '休', '忘', '夏', '飙', '漾', '心', '全', '跨', '璇', '犯', '林', '戒', '秧', '许', '幡', '填', '混', '宋', '何', '于', '尔', '荻', '达', '砚', '涂', '缩', '璧', '四', '逅', '仆', '虚', '体', '味', '示', '彭', '寇', '廊', '腹', '夭', '雏', '馔', '身', '秦', '纷', '珑', '吸', '寸', '闺', '也', '筹', '赤', '焰', '嶂', '白', '巢', '斧', '辰', '滚', '缠', '避', '棘', '俯', '彩', '常', '割', '洞', '道', '化', '景', '行', '巴', '船', '箫', '未', '名', '烹', '牙', '掖', '敛', '臣', '累', '项', '蜗', '宾', '蜍', '序', '钵', '湲', '迂', '岖', '鲸', '谐', '置', '易', '染', '颊', '阁', '屡', '绳', '缕', '杖', '圃', '绝', '约', '窝', '哦', '誉', '马', '蠹', '黛', '暑', '冕', '抛', '衡', '貂', '天', '橐', '勾', '让', '墓', '博', '翁', '唤', '鲛', '涩', '葵', '些', '牵', '压', '黄', '秋', '虽', '毂', '随', '居', '醒', '杵', '挂', '院', '颗', '催', '穷', '呼', '顾', '诘', '鸪', '自', '禁', '业', '拱', '案', '丝', '羊', '怅', '容', '迎', '民', '尤', '奕', '逐', '荔', '符', '毁', '辉', '枉', '巍', '愧', '巳', '柳', '敕', '奸', '层', '昭', '兮', '才', '庾', '篆', '冒', '瓶', '接', '儒', '祈', '冠', '墙', '宗', '均', '探', '裙', '奋', '径', '别', '重', '第', '照', '耽', '桓', '拂', '被', '播', '地', '推', '拜', '射', '糊', '子', '勇', '坟', '路', '畔', '浦', '嘶', '鹿', '遮', '酒', '求', '聚', '丧', '形', '风', '顷', '献', '霓', '冥', '致', '状', '酌', '萦', '威', '嗔', '而', '扬', '菰', '程', '潮', '紫', '询', '选', '锡', '和', '颠', '美', '尾', '俄', '稷', '谋', '沸', '仇', '尝', '蹊', '酹', '聊', '启', '淮', '滕', '奈', '粤', '倍', '机', '帏', '蓝', '抵', '陀', '泉', '僻', '粘', '鞭', '控', '雅', '封', '妃', '航', '香', '醺', '箭', '密', '枝', '郢', '舍', '谷', '筠', '介', '簟', '谙', '受', '钥', '昌', '闻', '始', '耀', '返', '攀', '叔', '朗', '辙', '芬', '尹', '岩', '湍', '毵', '纪', '谢', '灾', '柯', '拨', '液', '翻', '县', '加', '辛', '临', '葱', '荆', '兔', '带', '肝', '虔', '正', '藓', '啭', '煮', '垆', '整', '噪', '龟', '得', '鸱', '乾', '简', '讵', '施', '是', '来', '适', '庚', '殷', '晦', '叱', '兀', '睡', '峭', '嗣', '崖', '徂', '弦', '张', '暴', '炉', '敷', '陪', '揭', '尺', '朝', '槁', '剪', '市', '银', '鱼', '蓬', '痕', '凋', '倩', '铜', '蛩', '关', '势', '衮', '憎', '饮', '锋', '辜', '蔓', '籁', '派', '旬', '苦', '夫', '可', '逸', '俎', '渚', '乃', '塞', '敲', '渡', '帽', '分', '戈', '英', '坠', '蜡', '寂', '蕊', '石', '碍', '念', '素', '皋', '少', '赖', '榭', '携', '旄', '姑', '巧', '样', '宽', '辟', '耻', '穿', '经', '由', '齐', '锁', '酣', '青', '鸡', '归', '类', '融', '恰', '刺', '脉', '港', '灰', '断', '鸳', '剡', '畹', '蛮', '瀑', '曦', '书', '古', '醴', '茎', '樱', '毡', '狂', '动', '覆', '稍', '桐', '载', '霞', '德', '眸', '淅', '孙', '莫', '趣', '空', '枯', '洗', '骝', '叠', '界', '舄', '驺', '系', '谈', '泽', '蟹', '蓟', '沦', '辈', '逍', '鸢', '早', '立', '活', '稚', '朱', '板', '输', '非', '涯', '甸', '惬', '弓', '记', '操', '法', '蚕', '志', '露', '真', '毕', '丸', '夙', '百', '吹', '丞', '弃', '翼', '诸', '说', '调', '警', '丘', '涧', '丁', '呵', '使', '茅', '敌', '琴', '屏', '椎', '翳', '堆', '岭', '炙', '粉', '差', '潸', '再', '浓', '崩', '亡', '左', '祭', '皎', '翡', '蹄', '相', '琶', '栏', '根', '赊', '社', '敞', '暮', '公', '熙', '欹', '音', '涉', '淋', '低', '谏', '苕', '瓮', '植', '诛', '雪', '役', '刀', '争', '濡', '华', '铭', '铺', '猎', '髻', '漱', '圣', '柏', '拖', '女', '殿', '傅', '以', '蕖', '盘', '焉', '性', '镌', '窈', '恐', '挹', '上', '厌', '毛', '番', '意', '昨', '萧', '岛', '匹', '讯', '远', '饥', '榕', '到', '夕', '肆', '端', '鲤', '毒', '双', '矜', '纡', '摇', '折', '塔', '险', '屦', '局', '苞', '岫', '撑', '盂', '窗', '棠', '犹', '村', '刑', '振', '曲', '清', '野', '庸', '傥', '租', '惭', '南', '久', '馨', '挑', '兽', '鸯', '节', '峻', '鞍', '江', '痴', '帐', '钗', '醅', '赫', '仰', '笺', '援', '维', '兼', '街', '幄', '葛', '北', '桧', '咏', '辅', '遇', '报', '珍', '凝', '团', '匪', '极', '销', '狎', '杪', '礼', '蜂', '慈', '恃', '伊', '窕', '犁', '抱', '鼠', '拭', '驭', '罢', '碛', '俭', '针', '之', '柚', '屈', '辇', '及', '苔', '蟀', '瓦', '忍', '嗜', '切', '梧', '奔', '忝', '窄', '晚', '充', '服', '质', '束', '阑', '策', '韵', '扪', '赐', '丰', '逼', '涛', '缓', '绮', '九', '磬', '嫌', '反', '山', '叩', '济', '涨', '倦', '委', '遐', '唇', '阜', '栽', '烂', '转', '芦', '峦', '男', '个', '做', '冬', '描', '敢', '隔', '朵', '扫', '豆', '展', '蒸', '川', '峰', '姚', '申', '直', '漠', '态', '潇', '榜', '湿', '昏', '拾', '挟', '旅', '康', '寝', '祝', '每', '人', '梨', '廷', '努', '灵', '仞', '恙', '袜', '犬', '告', '瑚', '雁', '指', '擘', '文', '蒙', '裂', '孟', '羹', '浔', '阊', '暗', '侯', '巷', '贼', '私', '芹', '待', '营', '五', '儿', '啄', '游', '大', '飒', '滑', '岐', '向', '沼', '笠', '饶', '阅', '漏', '蹑', '祥', '疑', '骚', '长', '袭', '横', '邪', '减', '茸', '扶', '驴', '情', '韩', '专', '鹄', '煌', '环', '妻', '又', '遨', '魏', '所', '激', '丹', '武', '独', '玉', '雄', '逋', '脱', '革', '膺', '俨', '驹', '侍', '猷', '膏', '洛', '鹉', '兄', '窟', '倒', '瓣', '传', '金', '片', '验', '创', '脂', '萼', '阴', '叫', '背', '遥', '贻', '并', '讲', '昔', '旌', '炬', '仕', '梅', '徘', '冢', '叟', '感', '闷', '烧', '插', '频', '舆', '寻', '帛', '筇', '宴', '惹', '缀', '旧', '秀', '漂', '幅', '稻', '巅', '玲', '燕', '旒', '凫', '举', '福', '掌', '讴', '烬', '欤', '晋', '霁', '孔', '至', '预', '标', '逆', '潭', '弄', '鹂', '徊', '甲', '瞑', '摧', '霄', '宸', '蛾', '癖', '萋', '兴', '毳', '幕', '晕', '朔', '粲', '岂', '邦', '瑶', '增', '府', '碑', '呜', '鸭', '洽', '乞', '泥', '饵', '绪', '庭', '厨', '版', '李', '耳', '嵩', '罅', '刻', '晴', '扇', '冲', '亲', '鸦', '薰', '艺', '怒', '函', '命', '决', '见', '徒', '赠', '柔', '埃', '暝', '部', '帖', '死', '季', '无', '愈', '住', '它', '盍', '肥', '厦', '司', '帙', '旁', '诗', '宅', '怀', '茶', '沟', '阿', '鹢', '谩', '忙', '冻', '三', '尉', '芭', '弥', '纶', '二', '乱', '螺', '剩', '罥', '消', '妖', '两', '率', '肩', '霰', '税', '棋', '渴', '必', '进', '滴', '宝', '浙', '午', '晓', '境', '红', '罗', '就', '拟', '顶', '假', '撼', '砌', '领', '琵', '烛', '虞', '隙', '历', '亮', '残', '庞', '劫', '管', '存', '免', '妾', '论', '缚', '卿', '检', '诀', '病', '缄', '菊', '晏', '打', '禅', '绛', '脸', '升', '妆', '锦', '疆', '圭', '参', '窃', '幽', '测', '驾', '疲', '悭', '曙', '成', '开', '夺', '喜', '房', '扁', '衙', '葩', '难', '笙', '茂', '鬓', '造', '舌', '熟', '党', '冰', '浇', '霖', '楫', '俗', '卜', '荐', '滞', '戎', '送', '号', '跎'}\n"
     ]
    }
   ],
   "source": [
    "print(id2word)"
   ]
  },
  {
   "cell_type": "code",
   "execution_count": 100,
   "metadata": {},
   "outputs": [],
   "source": [
    "from word_dict import wordDict\n",
    "word_dict = wordDict()\n",
    "with open('./data/poem_128.txt', 'r') as f:\n",
    "    lines = f.readlines()\n",
    "for line in lines[:10]:\n",
    "    flag = False\n",
    "    for sentence in line.split('|'):\n",
    "        for word in sentence.split():\n",
    "            if word_dict.word2int(word) == -1:\n",
    "                print(word)\n",
    "                flag = True\n",
    "    if flag == True:\n",
    "        print(line)"
   ]
  },
  {
   "cell_type": "code",
   "execution_count": 91,
   "metadata": {},
   "outputs": [
    {
     "name": "stdout",
     "output_type": "stream",
     "text": [
      "False\n"
     ]
    }
   ],
   "source": []
  },
  {
   "cell_type": "code",
   "execution_count": null,
   "metadata": {},
   "outputs": [],
   "source": []
  }
 ],
 "metadata": {
  "kernelspec": {
   "display_name": "Python 3",
   "language": "python",
   "name": "python3"
  },
  "language_info": {
   "codemirror_mode": {
    "name": "ipython",
    "version": 3
   },
   "file_extension": ".py",
   "mimetype": "text/x-python",
   "name": "python",
   "nbconvert_exporter": "python",
   "pygments_lexer": "ipython3",
   "version": "3.7.6"
  }
 },
 "nbformat": 4,
 "nbformat_minor": 4
}
